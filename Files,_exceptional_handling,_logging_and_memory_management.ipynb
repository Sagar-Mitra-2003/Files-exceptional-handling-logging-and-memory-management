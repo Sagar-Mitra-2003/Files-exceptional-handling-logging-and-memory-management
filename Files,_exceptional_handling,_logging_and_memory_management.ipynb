{
  "nbformat": 4,
  "nbformat_minor": 0,
  "metadata": {
    "colab": {
      "provenance": []
    },
    "kernelspec": {
      "name": "python3",
      "display_name": "Python 3"
    },
    "language_info": {
      "name": "python"
    }
  },
  "cells": [
    {
      "cell_type": "markdown",
      "source": [
        "# Questions & Answers"
      ],
      "metadata": {
        "id": "H7Ja-LVxgO0_"
      }
    },
    {
      "cell_type": "markdown",
      "source": [
        " Q-1 : What is the difference between interpreted and compiled languages?\n",
        "\n",
        ">The primary difference between interpreted and compiled languages lies in how the source code is executed. Compiled languages are translated into machine code (or bytecode) before runtime, while interpreted languages are executed line by line by an interpreter during runtime.\n",
        "\n",
        "Compiled Languages :\n",
        "\n",
        "Process :\n",
        "\n",
        "Source code is converted into machine code (or bytecode) by a compiler before execution. This translated code can then be executed directly by the computer's processor.\n",
        "\n",
        "Execution :\n",
        "\n",
        "Execution is faster because the translation to machine code happens once, during compilation, rather than repeatedly during runtime.\n",
        "\n",
        "Examples:\n",
        "\n",
        "C, C++, Go, Java (Java is compiled to bytecode, which is then interpreted by the Java Virtual Machine).\n",
        "\n",
        "Interpreted Languages:\n",
        "\n",
        "Process:\n",
        "\n",
        "The interpreter reads the source code line by line, translating and executing each instruction in real-time. There is no separate compilation step before runtime.\n",
        "\n",
        "Execution:\n",
        "\n",
        "Execution can be slower than compiled languages because the translation process occurs every time the code is run.\n",
        "\n",
        "Examples: Python, Ruby, JavaScript, PHP."
      ],
      "metadata": {
        "id": "v6OEnofXgiPm"
      }
    },
    {
      "cell_type": "markdown",
      "source": [
        "Q-2 : What is exception handling in Python?\n",
        "\n",
        ">Exception handling in Python is a mechanism used to manage and respond to runtime errors, known as exceptions, that occur during the execution of a program. This allows the program to continue running or exit gracefully, rather than crashing abruptly.\n"
      ],
      "metadata": {
        "id": "Mpmrs0hug3Jf"
      }
    },
    {
      "cell_type": "markdown",
      "source": [
        "Q-3 : What is the purpose of the finally block in exception handling?\n",
        "\n",
        ">The finally block in exception handling ensures that a specific block of code is executed, regardless of whether an exception is thrown or caught in the try or catch blocks. Its primary purpose is to provide a mechanism for cleanup operations that must always run, such as releasing resources or closing files, ensuring resources are properly managed even when exceptions occur.\n"
      ],
      "metadata": {
        "id": "sfb9Tud1g6me"
      }
    },
    {
      "cell_type": "markdown",
      "source": [
        "Q-4 : What is logging in Python?\n",
        "\n",
        ">Logging in Python refers to the process of recording events that occur while a software program is running. It is a crucial practice for software development, debugging, and operational monitoring. Instead of relying solely on print() statements for debugging, the built-in logging module in Python provides a more structured and flexible framework for managing these records."
      ],
      "metadata": {
        "id": "l9Q2kOWNho-N"
      }
    },
    {
      "cell_type": "markdown",
      "source": [
        "Q-5 : What is the significance of the __del__ method in Python?\n",
        "\n",
        ">The __del__ method is a special method in Python that is called when an object is about to be destroyed. It allows you to define specific cleanup actions that should be taken when an object is garbage collected. This method can be particularly useful for releasing external resources such as file handles, network connections, or database connections that the object may hold."
      ],
      "metadata": {
        "id": "uqcS6BCihxbm"
      }
    },
    {
      "cell_type": "markdown",
      "source": [
        "Q-6 : What is the difference between import and from ... import in Python?\n",
        "\n",
        "Here are some key differences between import and from statements in Python:\n",
        "\n",
        "Namespace pollution : The import statement imports the entire module into the current namespace, which can lead to namespace pollution and naming conflicts. The from statement imports only the specified attributes, which can help to avoid these issues.\n",
        "\n",
        "Code readability : The import statement is more explicit and easier to read, as it shows where each attribute comes from. The from statement can make code harder to read, as it doesn't show the module name.\n",
        "\n",
        "Performance : The import statement is generally faster than the from statement, as it only needs to import the module once. The from statement may need to import the same attributes multiple times, which can be slower.\n",
        "\n",
        "Aliasing : The import statement allows you to alias a module or a module's attribute, which can make the code more readable and concise. For example, you can use the statement import math as m to alias the math module to m. The from statement doesn't allow you to alias a module or a module's attribute.\n",
        "\n",
        "Attribute access : The import statement requires you to access the module's attributes using the dot notation, which can be cumbersome if the module name is long. The from statement allows you to access the imported attributes directly, without using the dot notation.\n",
        "\n",
        "Importing subpackages : The import statement allows you to import subpackages of a module using dot notation, which can make it easier to organize and modularize your code. The from statement doesn't allow you to import subpackages directly.\n",
        "\n",
        "Name clashes : The import statement allows you to import multiple modules or attributes with the same name, as long as they are in different namespaces. The from statement doesn't allow you to do this, as it only imports the specified attributes into the current namespace.\n",
        "\n",
        "Dynamic imports : The import statement allows you to import modules dynamically at runtime, which can make your code more flexible and modular. The from statement doesn't allow you to do this, as it requires you to specify the attributes to import at compile time."
      ],
      "metadata": {
        "id": "UvyRqKLWFRLO"
      }
    },
    {
      "cell_type": "markdown",
      "source": [
        "Q-7 : How can you handle multiple exceptions in Python?\n",
        "\n",
        ">Using multiple except blocks (preferred when handling differently):\n",
        "\n",
        "try:\n",
        "    #code that may raise multiple exceptions\n",
        "    x = int(input(\"Enter a number: \"))\n",
        "    y = 10 / x\n",
        "    data = [1, 2, 3]\n",
        "    print(data[x])\n",
        "except ZeroDivisionError:\n",
        "\n",
        "    print(\"Cannot divide by zero.\")\n",
        "except ValueError:\n",
        "\n",
        "    print(\"Invalid input. Please enter a number.\")\n",
        "except IndexError:\n",
        "\n",
        "    print(\"Index out of range.\")\n",
        "\n",
        "\n",
        ">Catching multiple exceptions in a single except block (same handling):\n",
        "\n",
        "try:\n",
        "    \n",
        "    x = int(input(\"Enter a number: \"))\n",
        "    y = 10 / x\n",
        "except (ZeroDivisionError, ValueError) as e:\n",
        "\n",
        "    print(f\"An error occurred: {e}\")\n",
        "\n"
      ],
      "metadata": {
        "id": "ZRguNd0yFvd9"
      }
    },
    {
      "cell_type": "markdown",
      "source": [
        "Q-8 :  What is the purpose of the with statement when handling files in Python?\n",
        "\n",
        "The with statement in Python, when used with file handling, serves the purpose of simplifying resource management and ensuring proper cleanup of the file resource.\n",
        "\n",
        "Its primary functions are :\n",
        "\n",
        "Automatic File Closure :\n",
        "\n",
        "The with statement guarantees that the file is automatically closed once the code block within the with statement is exited, regardless of whether the block completes successfully or an exception occurs. This eliminates the need for explicitly calling file.close() and prevents resource leaks that can arise from forgetting to close files.\n",
        "\n",
        "Simplified Error Handling :\n",
        "\n",
        "It implicitly handles potential errors during file operations. If an exception occurs within the with block, the with statement ensures the file is still closed correctly before the exception propagates, preventing file corruption or data loss.\n",
        "\n",
        "Improved Readability and Conciseness :\n",
        "\n",
        "It makes the code cleaner and more readable by encapsulating the file opening and closing logic, allowing the programmer to focus on the actual file operations. This reduces boilerplate code compared to using traditional try-finally blocks for resource management."
      ],
      "metadata": {
        "id": "1vIOrFJiGK6-"
      }
    },
    {
      "cell_type": "markdown",
      "source": [
        "Q-9 : What is the difference between multithreading and multiprocessing?\n",
        "\n",
        ">Multithreading and multiprocessing are both techniques to achieve parallel execution, but they differ in how they divide tasks and manage resources. Multithreading involves running multiple threads within a single process, sharing the same memory space. Multiprocessing, on the other hand, utilizes multiple processes, each with its own memory space, potentially on separate CPUs.\n",
        "\n",
        "Here's a more detailed breakdown :\n",
        "\n",
        "Multithreading :\n",
        "\n",
        "Focus : Concurrency within a single process.\n",
        "\n",
        "Threads : Lightweight units of execution that share the same memory space and resources of the parent process.\n",
        "\n",
        "Communication : Easier and faster communication between threads due to shared memory.\n",
        "\n",
        "Resource Usage : Lower memory overhead compared to multiprocessing because threads share resources.\n",
        "\n",
        "Potential Issues : A crash in one thread can potentially affect the entire process and other threads.\n",
        "\n",
        "Multiprocessing :\n",
        "\n",
        "Focus : Parallelism across multiple processes, potentially on separate CPUs.\n",
        "\n",
        "Processes : Independent units of execution, each with its own memory space and resources.\n",
        "\n",
        "Communication : Requires inter-process communication (IPC) mechanisms for data exchange, which can be slower.\n",
        "\n",
        "Resource Usage : Higher memory overhead due to each process having its own memory space.\n",
        "\n",
        "Potential Issue : A crash in one process generally does not affect other processes."
      ],
      "metadata": {
        "id": "xiuJSQBPGbX9"
      }
    },
    {
      "cell_type": "markdown",
      "source": [
        "Q-10 :What are the advantages of using logging in a program?\n",
        "\n",
        ">Logging in programming offers numerous advantages, primarily aiding in debugging, performance monitoring, and understanding application behavior. It allows developers to track events, identify errors, and analyze trends, leading to more robust and reliable software.\n",
        "\n",
        "Here's a more detailed breakdown :\n",
        "\n",
        "Debugging :\n",
        "Logging provides valuable insights into the program's execution flow, making it easier to pinpoint the source of errors and unexpected behavior. By logging relevant data at various points in the code, developers can reconstruct the sequence of events leading to a problem.\n",
        "\n",
        "Performance Monitoring :\n",
        "Logging can be used to track performance metrics, such as execution time of specific code sections or resource usage. This information helps identify bottlenecks and optimize the application's performance.\n",
        "\n",
        "Understanding Application Behavior :\n",
        "Logs provide a record of what the application has been doing, allowing developers to understand how it's being used, identify potential issues, and improve its overall functionality.\n",
        "\n",
        "Event Tracing :\n",
        "Logging can be used to track specific events or user actions, which can be helpful for auditing, security analysis, and understanding user behavior patterns.\n",
        "\n",
        "Centralized Logging :\n",
        "In complex systems or microservices, logging to a central location (like a log management system) allows for easier analysis and troubleshooting across multiple components.\n",
        "\n",
        "Compliance and Auditing :\n",
        "Logs can be crucial for compliance with regulatory requirements, providing a record of system activity for auditing purposes.\n",
        "\n",
        "Reduced Firefighting :\n",
        "By proactively logging potential issues and errors, logging can help reduce the time spent on \"firefighting\" problems in production environments.\n",
        "\n",
        "Improved Troubleshooting :\n",
        "With the ability to filter logs by level (debug, info, warning, error), developers can quickly isolate and address specific issues.\n",
        "\n",
        "Historical Analysis :\n",
        "Logs can be used to analyze trends and patterns over time, providing valuable insights into application usage and potential areas for improvement.\n"
      ],
      "metadata": {
        "id": "Dws4JcDeGuul"
      }
    },
    {
      "cell_type": "markdown",
      "source": [
        "Q-11 : What is memory management in Python?\n",
        "\n",
        ">Memory management in Python refers to the system that handles how Python programs use and release memory on a computer. Unlike some other programming languages where manual memory management is required, Python automates most of this process, allowing developers to focus more on application logic."
      ],
      "metadata": {
        "id": "0hm6oI4UG_Wu"
      }
    },
    {
      "cell_type": "markdown",
      "source": [
        "Q-12 : What are the basic steps involved in exception handling in Python?\n",
        "\n",
        "Exception handling in Python involves the following basic steps, primarily using try, except, else, and finally blocks:\n",
        "\n",
        "try block:\n",
        "This block contains the code that is expected to potentially raise an exception.\n",
        "Python attempts to execute the code within this block. If an exception occurs, the execution of the try block is immediately stopped, and control is transferred to the corresponding except block.\n",
        "\n",
        "except block(s):\n",
        "This block is executed if an exception occurs in the try block.\n",
        "You can specify a particular type of exception to catch (e.g., except ValueError:), or use a general except to catch any exception if no specific exception is named.\n",
        "Multiple except blocks can be used to handle different types of exceptions specifically.\n",
        "\n",
        "else block (optional):\n",
        "This block is executed only if no exceptions are raised within the try block.\n",
        "It's useful for placing code that should only run when the try block executes successfully.\n",
        "\n",
        "finally block (optional):\n",
        "This block is always executed, regardless of whether an exception occurred in the try block or not.\n",
        "It is typically used for cleanup operations, such as closing files or releasing resources, ensuring these actions happen even if an error occurs."
      ],
      "metadata": {
        "id": "xgxRro_KHuul"
      }
    },
    {
      "cell_type": "markdown",
      "source": [
        "Q-13 :  Why is memory management important in Python?\n",
        "\n",
        "Memory management is crucial in Python, even though it's largely handled automatically, for several key reasons:\n",
        "\n",
        "Resource Efficiency:\n",
        "Proper memory management ensures that your Python programs utilize system resources, particularly RAM, efficiently. This prevents unnecessary memory consumption and allows for smoother execution, especially in resource-intensive applications.\n",
        "\n",
        "Performance Optimization:\n",
        "Inefficient memory usage can lead to performance bottlenecks. When memory is not managed well, it can result in excessive garbage collection cycles or swapping to disk, significantly slowing down your application. Understanding memory management helps in writing code that minimizes these performance impacts.\n",
        "\n",
        "Preventing Memory Leaks:\n",
        "Memory leaks occur when allocated memory is no longer needed but is not released back to the system. While Python's garbage collector aims to prevent this, complex scenarios, like circular references, can sometimes lead to leaks. Knowledge of memory management helps identify and mitigate these issues.\n",
        "\n",
        "Debugging and Troubleshooting:\n",
        "Understanding how Python manages memory helps in diagnosing and resolving memory-related issues, such as high memory consumption, crashes, or unexpected performance degradation. It provides insights into why a program might be consuming a certain amount of memory or why memory usage increases over time.\n",
        "\n",
        "Writing More Efficient Code:\n",
        "While Python abstracts away explicit memory allocation, knowing the underlying mechanisms, like reference counting and garbage collection, allows developers to write more memory-efficient code. This includes practices like avoiding unnecessary object creation, using generators for large datasets, and being mindful of object lifetimes.\n",
        "\n",
        "Scalability:\n",
        "For large-scale applications or those processing significant amounts of data, efficient memory management is paramount for scalability. It ensures that the application can handle increased workloads without running into memory limitations.\n"
      ],
      "metadata": {
        "id": "v9ILZKs6IBrF"
      }
    },
    {
      "cell_type": "markdown",
      "source": [
        "Q-14 : What is the role of try and except in exception handling?\n",
        "\n",
        ">In Python, the try and except statements are used for exception handling, which allows programs to gracefully manage unexpected errors during execution. The try block encloses code that might raise an exception, while the except block contains code that handles the exception if it occurs. This prevents the program from crashing and allows it to continue running, potentially with alternative actions or error messages."
      ],
      "metadata": {
        "id": "SP-0TZtYIQZG"
      }
    },
    {
      "cell_type": "markdown",
      "source": [
        "Q-15 : How does Python's garbage collection system work?\n",
        "\n",
        ">Python's garbage collection system primarily uses reference counting as its main method for memory management, with a secondary mechanism for handling cyclical references. It automatically reclaims memory occupied by objects no longer in use, freeing the programmer from manual memory management.\n"
      ],
      "metadata": {
        "id": "HofT90utIcdN"
      }
    },
    {
      "cell_type": "markdown",
      "source": [
        "Q-16 : What is the purpose of the else block in exception handling?\n",
        "\n",
        ">The else block in exception handling is used to execute code when no exceptions are raised within the try block. It provides a way to separate the code that might cause an error from the code that should only run when no errors occur in the try block. This helps in organizing the code and makes it clearer which parts of the code are intended to handle potential errors and which parts are intended to run on success.\n"
      ],
      "metadata": {
        "id": "D2Dr7Hy1Iokl"
      }
    },
    {
      "cell_type": "markdown",
      "source": [
        "Q-17 : What are the common logging levels in Python?\n",
        "\n",
        ">Python's built-in logging module offers several standard logging levels, each representing a different severity of an event. These levels are used to categorize and filter log messages, allowing developers to control the verbosity and focus of their application's logs.\n",
        "\n",
        "The common logging levels in Python, from lowest to highest severity, are:\n",
        "\n",
        "1. DEBUG (10):\n",
        "Detailed information, typically of interest only to developers diagnosing problems.\n",
        "\n",
        "2. INFO (20):\n",
        "Confirmation that things are working as expected. This level is for general operational events.\n",
        "\n",
        "3. WARNING (30):\n",
        "An indication that something unexpected happened, or that a problem might occur in the near future (e.g., 'disk space low'). The software is still working as expected.\n",
        "\n",
        "4. ERROR (40):\n",
        "Due to a more serious problem, the software has not been able to perform some function.\n",
        "\n",
        "5. CRITICAL (50):\n",
        "A severe error, indicating that the program itself may be unable to continue running."
      ],
      "metadata": {
        "id": "4mrKlNajIxe3"
      }
    },
    {
      "cell_type": "markdown",
      "source": [
        "Q-18 : What is the difference between os.fork() and multiprocessing in Python?\n",
        "\n",
        "The os.fork() function and the multiprocessing module in Python both facilitate the creation of new processes, but they differ significantly in their level of abstraction, portability, and how they manage process creation and communication.\n",
        "\n",
        "1. Level of Abstraction and Portability:\n",
        "\n",
        "os.fork():\n",
        "\n",
        "This function is a direct wrapper around the Unix fork() system call. It creates a child process that is an exact copy of the parent process, including its memory space, file descriptors, and other resources. It is only available on Unix-like operating systems (e.g., Linux, macOS) and is not supported on Windows.\n",
        "\n",
        "multiprocessing:\n",
        "\n",
        "This module provides a higher-level, cross-platform API for process-based parallelism. It abstracts away the underlying operating system details, offering a consistent way to create and manage processes on various platforms, including Windows, where fork() is not available. On Unix-like systems, multiprocessing often uses fork() internally as its default start method, but it can also use spawn or forkserver.\n",
        "\n",
        "2. Process Creation and Resource Management:\n",
        "\n",
        "os.fork():\n",
        "\n",
        "When os.fork() is called, the entire address space of the parent process is duplicated (or copy-on-write is used). This means the child process initially inherits all the parent's state, including variables, open files, and potentially even locks. Managing shared resources and communication between parent and child requires explicit mechanisms like pipes or shared memory.\n",
        "\n",
        "multiprocessing:\n",
        "\n",
        "The multiprocessing module provides a more structured approach to process creation. When using multiprocessing.Process, a new, independent process is typically created, and data is explicitly passed between processes using mechanisms like Queues, Pipes, or Manager objects. This helps in avoiding unintended sharing of resources and simplifies inter-process communication.\n",
        "\n",
        "3. Handling of Global State and Shared Resources:\n",
        "\n",
        "os.fork():\n",
        "\n",
        "Due to the exact duplication, any global variables or shared resources (like database connections or file handles) present in the parent process at the time of the fork() will also exist in the child. This can lead to issues if not handled carefully, as modifications in one process might not be reflected in the other, or shared resources might be accessed concurrently without proper synchronization.\n",
        "\n",
        "multiprocessing:\n",
        "\n",
        "The multiprocessing module encourages a more explicit approach to sharing data. It provides tools for safe inter-process communication and synchronization, such as Locks, Events, and Value/Array objects for shared memory, which are designed to work correctly across separate processes."
      ],
      "metadata": {
        "id": "KDjNk8MmI8EW"
      }
    },
    {
      "cell_type": "markdown",
      "source": [
        "Q-19 : What is the importance of closing a file in Python?\n",
        "\n",
        ">Closing a file in Python is crucial for several reasons, primarily related to resource management, data integrity, and system stability:\n",
        "\n",
        "1. Resource Management and Prevention of Resource Leaks:\n",
        "\n",
        "When a file is opened, the operating system allocates resources (like file handles) to manage it. Failing to close a file means these resources are not released, leading to resource leaks. Over time, this can exhaust available file handles, causing performance issues or even crashes, especially in long-running applications or servers.\n",
        "\n",
        "2. Ensuring Data Integrity and Preventing Data Loss:\n",
        "\n",
        "When writing to a file, data is often buffered in memory before being written to disk. Closing the file explicitly flushes these buffers, ensuring that all written data is saved to the storage medium. If a program terminates unexpectedly without the file being closed, unsaved buffered data can be lost or the file can become corrupted.\n",
        "\n",
        "3. Releasing File Locks:\n",
        "\n",
        "In some operating systems, opening a file for writing or exclusive access can place a lock on it, preventing other processes or users from accessing or modifying it. Closing the file releases this lock, allowing other applications or users to interact with it.\n",
        "\n",
        "4. Maintaining System Limits:\n",
        "\n",
        "Operating systems impose limits on the number of files a single process can have open concurrently. Neglecting to close files can lead to exceeding this limit, resulting in IOError or OSError exceptions and hindering program execution.\n",
        "\n",
        "5. Good Programming Practice:\n",
        "\n",
        "Explicitly closing files demonstrates good resource management and makes code more robust and maintainable. It ensures predictable behavior and reduces the likelihood of subtle bugs related to file access.\n",
        "\n",
        "6. Using with statements for automatic closure:\n",
        "\n",
        "Python's with statement provides a convenient and recommended way to handle file operations, as it automatically ensures that files are closed even if errors occur."
      ],
      "metadata": {
        "id": "2vWaj8k4JTSN"
      }
    },
    {
      "cell_type": "markdown",
      "source": [
        "Q-20 : What is the difference between file.read() and file.readline() in Python?\n",
        "\n",
        "In Python, file.read() and file.readline() are methods used to read content from a file object, but they differ in how much data they retrieve:\n",
        "\n",
        "1. file.read(size=-1):\n",
        "\n",
        "* Reads the entire content of the file and returns it as a single string.\n",
        "* If an optional size argument is provided, it reads at most that many bytes (or characters in text mode) from the file.\n",
        "* This method can be memory-intensive for very large files as it loads the entire file into memory.\n",
        "\n",
        "2. file.readline(size=-1):\n",
        "* Reads a single line from the file until a newline character (\\n) is encountered or the end of the file is reached.\n",
        "* Returns the line as a string, including the newline character if present.\n",
        "If an optional size argument is provided, it reads at most that many bytes (or characters in text mode) from the line.\n",
        "* This method is more memory-efficient for processing large files line by line, as it only loads one line at a time.\n",
        "\n",
        "In summary:\n",
        "\n",
        "* read(): is for reading the whole file or a specified number of bytes/characters.\n",
        "* readline(): is for reading one line at a time."
      ],
      "metadata": {
        "id": "3_CFA3WIJg_2"
      }
    },
    {
      "cell_type": "markdown",
      "source": [
        "Q-21 : What is the logging module in Python used for?\n",
        "\n",
        ">The Python logging module is a built-in library used to track events in Python programs, providing a structured way to record information about program behavior, errors, and other significant occurrences. It's a more robust and flexible alternative to using print() statements for debugging and monitoring applications."
      ],
      "metadata": {
        "id": "jAqB6S-QJwSt"
      }
    },
    {
      "cell_type": "markdown",
      "source": [
        "Q-22 : What is the os module in Python used for in file handling?\n",
        "\n",
        ">Python has a built-in os module with methods for interacting with the operating system, like creating files and directories, management of files and directories, input, output, environment variables, process management, etc."
      ],
      "metadata": {
        "id": "w3UG0W7CJ7x1"
      }
    },
    {
      "cell_type": "markdown",
      "source": [
        "Q-23 : What are the challenges associated with memory management in Python?\n",
        "\n",
        ">Challenges associated with memory management in Python primarily stem from its automatic nature and object-oriented design, leading to potential issues such as:\n",
        "\n",
        "1. Memory Leaks due to Cyclic References:\n",
        "\n",
        "While Python's primary memory management mechanism is reference counting, it cannot detect and reclaim memory for objects involved in circular references (where objects directly or indirectly reference each other, preventing their reference counts from dropping to zero). This can lead to memory leaks, where unused memory is not deallocated.\n",
        "\n",
        "2. Performance Overhead of Garbage Collection:\n",
        "\n",
        "Python's garbage collector periodically runs to identify and reclaim memory that cannot be handled by reference counting (like cyclic references). This process can introduce performance overhead, especially in applications with a high volume of object creation and destruction, or when dealing with large datasets.\n",
        "\n",
        "3. Higher Memory Consumption:\n",
        "\n",
        "Python's dynamic typing and object-oriented nature, where everything is an object, can lead to higher memory consumption compared to lower-level languages like C or C++. Each Python object carries overhead for its type information and reference count, even for simple data types.\n",
        "\n",
        "4. Limited Manual Control:\n",
        "\n",
        "Python's automatic memory management abstracts away explicit memory allocation and deallocation from the developer. While this simplifies development, it also limits the ability to fine-tune memory usage for performance-critical applications or to address specific memory-related issues that might be easier to resolve with manual control.\n",
        "\n",
        "5. Memory Fragmentation:\n",
        "\n",
        "Over time, dynamic memory allocation and deallocation can lead to memory fragmentation, where free memory is broken into small, non-contiguous chunks. This can reduce the efficiency of memory utilization and potentially impact performance, although Python's memory manager attempts to mitigate this.\n",
        "\n",
        "6. Debugging Memory Issues:\n",
        "\n",
        "Diagnosing and resolving memory-related issues like leaks or excessive memory consumption can be challenging in Python due to the automatic nature of its memory management. Tools and techniques like memory profiling become essential for understanding memory usage patterns and identifying problematic areas."
      ],
      "metadata": {
        "id": "vbKMBi9yKJOl"
      }
    },
    {
      "cell_type": "markdown",
      "source": [
        "Q-24 : How do you raise an exception manually in Python?\n",
        "\n",
        ">In Python, exceptions are manually raised using the raise keyword. This allows developers to explicitly trigger an error condition at a specific point in the code.\n",
        "\n",
        "Syntax:\n",
        "\n",
        "raise ExceptionType(\"Optional error message\")"
      ],
      "metadata": {
        "id": "pCCygCUgKTwl"
      }
    },
    {
      "cell_type": "markdown",
      "source": [
        "Q-25 : Why is it important to use multithreading in certain applications?\n",
        "\n",
        ">Multithreading is important in certain applications because it allows for concurrent execution of multiple tasks, leading to improved performance, responsiveness, and resource utilization. By breaking down a program into smaller, independent threads, applications can better utilize multi-core processors, handle multiple user requests simultaneously, and prevent blocking of the user interface.\n",
        "\n",
        "Here's a more detailed look at the benefits:\n",
        "\n",
        "1. Improved Performance:\n",
        "\n",
        "Multithreading allows multiple tasks to run concurrently, potentially reducing overall execution time. For example, a video editing application can render different parts of a video simultaneously using multiple threads.\n",
        "\n",
        "2. Enhanced Responsiveness:\n",
        "\n",
        "By offloading time-consuming tasks to separate threads, the main thread remains free to handle user interactions, preventing the application from becoming unresponsive.\n",
        "\n",
        "3. Better Resource Utilization:\n",
        "\n",
        "Multithreading enables efficient utilization of multi-core processors, allowing applications to leverage the full processing power of the system.\n",
        "\n",
        "4. Concurrency and Parallelism:\n",
        "\n",
        "Multithreading enables true parallelism on multi-core systems, where multiple threads can execute truly simultaneously.\n",
        "\n",
        "5. Handling Multiple Tasks:\n",
        "\n",
        "Multithreading allows applications to handle multiple tasks concurrently, such as processing user requests, performing background tasks, and handling I/O operations.\n",
        "\n",
        "6. Scalability:\n",
        "\n",
        "Multithreading can improve the scalability of applications, allowing them to handle an increasing number of users or tasks by adding more threads.\n",
        "\n",
        "In essence, multithreading is a powerful tool for optimizing application performance and responsiveness, especially in scenarios involving complex computations, user interactions, and resource-intensive operations."
      ],
      "metadata": {
        "id": "CqphcDn_KdtV"
      }
    },
    {
      "cell_type": "markdown",
      "source": [
        "# Practical Question"
      ],
      "metadata": {
        "id": "314tEAHuK7vt"
      }
    },
    {
      "cell_type": "code",
      "source": [
        "# Q-1 : How can you open a file for writing in Python and write a string to it?\n",
        "\n",
        "# Open the file in write mode ('w')\n",
        "with open(\"example.txt\", \"w\") as file:\n",
        "    # Write a string to the file\n",
        "    file.write(\"Hello, world!\\nI am Sagar Mitra.\")\n"
      ],
      "metadata": {
        "id": "bcGUjUf_LKFV"
      },
      "execution_count": 1,
      "outputs": []
    },
    {
      "cell_type": "code",
      "source": [
        "# Q-2 : Write a Python program to read the contents of a file and print each line?\n",
        "\n",
        "# Open the file in read mode ('r')\n",
        "with open(\"example.txt\", \"r\") as file:\n",
        "    # Loop through each line in the file\n",
        "    for line in file:\n",
        "        # Print the line (with end='' to avoid double newlines)\n",
        "        print(line, end='')\n"
      ],
      "metadata": {
        "id": "2_vcil5ILd1m",
        "colab": {
          "base_uri": "https://localhost:8080/"
        },
        "outputId": "c1ce063a-cb13-41f4-c688-df68664577e5"
      },
      "execution_count": 2,
      "outputs": [
        {
          "output_type": "stream",
          "name": "stdout",
          "text": [
            "Hello, world!\n",
            "I am Sagar Mitra."
          ]
        }
      ]
    },
    {
      "cell_type": "code",
      "source": [
        "# Q-3 : How would you handle a case where the file doesn't exist while trying to open it for reading?\n",
        "\n",
        "try:\n",
        "    with open(\"example.txt\", \"r\") as file:\n",
        "        for line in file:\n",
        "            print(line, end='')\n",
        "except FileNotFoundError:\n",
        "    print(\"The file does not exist.\")\n"
      ],
      "metadata": {
        "id": "xeZskmnULwEd",
        "colab": {
          "base_uri": "https://localhost:8080/"
        },
        "outputId": "d6b2cada-25ff-4d0d-a51f-2acabcd1d684"
      },
      "execution_count": null,
      "outputs": [
        {
          "output_type": "stream",
          "name": "stdout",
          "text": [
            "Hello, world!\n",
            "I am Sagar Mitra."
          ]
        }
      ]
    },
    {
      "cell_type": "code",
      "source": [
        "# Q-4 : Write a Python script that reads from one file and writes its content to another file.\n",
        "\n",
        "# Read from source file and write to destination file\n",
        "try:\n",
        "    with open(\"source.txt\", \"r\") as source_file:\n",
        "        content = source_file.read()\n",
        "\n",
        "    with open(\"destination.txt\", \"w\") as dest_file:\n",
        "        dest_file.write(content)\n",
        "\n",
        "    print(\"File content copied successfully.\")\n",
        "except FileNotFoundError:\n",
        "    print(\"The source file does not exist.\")\n",
        "except Exception as e:\n",
        "    print(f\"An error occurred: {e}\")\n"
      ],
      "metadata": {
        "id": "OxwHX713MD6t",
        "colab": {
          "base_uri": "https://localhost:8080/"
        },
        "outputId": "12841c39-47c8-414c-86fe-820180503a34"
      },
      "execution_count": null,
      "outputs": [
        {
          "output_type": "stream",
          "name": "stdout",
          "text": [
            "The source file does not exist.\n"
          ]
        }
      ]
    },
    {
      "cell_type": "code",
      "source": [
        "# Q-5 : How would you catch and handle division by zero error in Python?\n",
        "\n",
        "try:\n",
        "    numerator = 10\n",
        "    denominator = 0\n",
        "    result = numerator / denominator\n",
        "    print(\"Result:\", result)\n",
        "except ZeroDivisionError:\n",
        "    print(\"Error: Cannot divide by zero.\")\n"
      ],
      "metadata": {
        "id": "QZBG4DoGMW8F",
        "colab": {
          "base_uri": "https://localhost:8080/"
        },
        "outputId": "51588cd2-6450-4d71-ada2-9544a1112ccb"
      },
      "execution_count": null,
      "outputs": [
        {
          "output_type": "stream",
          "name": "stdout",
          "text": [
            "Error: Cannot divide by zero.\n"
          ]
        }
      ]
    },
    {
      "cell_type": "code",
      "source": [
        "# Q-6 : Write a Python program that logs an error message to a log file when a division by zero exception occurs.\n",
        "\n",
        "import logging\n",
        "\n",
        "# Configure the logging\n",
        "logging.basicConfig(\n",
        "    filename='error.log',\n",
        "    level=logging.ERROR,\n",
        "    format='%(asctime)s - %(levelname)s - %(message)s'\n",
        ")\n",
        "\n",
        "try:\n",
        "    numerator = 10\n",
        "    denominator = 0\n",
        "    result = numerator / denominator\n",
        "    print(\"Result:\", result)\n",
        "except ZeroDivisionError as e:\n",
        "    logging.error(\"Division by zero error occurred: %s\", e)\n",
        "    print(\"An error occurred. Check 'error.log' for details.\")\n"
      ],
      "metadata": {
        "id": "OzFzv2lKMrjt",
        "colab": {
          "base_uri": "https://localhost:8080/"
        },
        "outputId": "ee91d321-7dbd-42dd-d9b0-4c79faccf836"
      },
      "execution_count": null,
      "outputs": [
        {
          "output_type": "stream",
          "name": "stderr",
          "text": [
            "ERROR:root:Division by zero error occurred: division by zero\n"
          ]
        },
        {
          "output_type": "stream",
          "name": "stdout",
          "text": [
            "An error occurred. Check 'error.log' for details.\n"
          ]
        }
      ]
    },
    {
      "cell_type": "code",
      "source": [
        "# Q-7 : How do you log information at different levels (INFO, ERROR, WARNING) in Python using the logging module?\n",
        "\n",
        "import logging\n",
        "\n",
        "# Configure the logging system\n",
        "logging.basicConfig(\n",
        "    filename='app.log',        # Log output file\n",
        "    level=logging.DEBUG,       # Minimum level to capture\n",
        "    format='%(asctime)s - %(levelname)s - %(message)s'\n",
        ")\n",
        "\n",
        "# Log messages at different levels\n",
        "logging.debug(\"This is a debug message\")      # Lower than INFO\n",
        "logging.info(\"This is an info message\")       # General information\n",
        "logging.warning(\"This is a warning message\")  # Something unexpected\n",
        "logging.error(\"This is an error message\")     # A serious error\n",
        "logging.critical(\"This is a critical message\")# Very serious error\n"
      ],
      "metadata": {
        "id": "7VWtbgmPM7a9",
        "colab": {
          "base_uri": "https://localhost:8080/"
        },
        "outputId": "657baa3b-9aa9-4f90-a801-f8aa6c77c98e"
      },
      "execution_count": null,
      "outputs": [
        {
          "output_type": "stream",
          "name": "stderr",
          "text": [
            "WARNING:root:This is a warning message\n",
            "ERROR:root:This is an error message\n",
            "CRITICAL:root:This is a critical message\n"
          ]
        }
      ]
    },
    {
      "cell_type": "code",
      "source": [
        "# Q-8 : Write a program to handle a file opening error using exception handling.\n",
        "\n",
        "try:\n",
        "    # Attempt to open a file that may not exist\n",
        "    with open(\"non_existent_file.txt\", \"r\") as file:\n",
        "        content = file.read()\n",
        "        print(content)\n",
        "except FileNotFoundError:\n",
        "    print(\"Error: The file was not found.\")\n",
        "except IOError:\n",
        "    print(\"Error: An I/O error occurred while trying to open the file.\")\n"
      ],
      "metadata": {
        "id": "_QNCBs1DNHg1",
        "colab": {
          "base_uri": "https://localhost:8080/"
        },
        "outputId": "f8027c3d-ba13-4b41-b366-297750b792d7"
      },
      "execution_count": null,
      "outputs": [
        {
          "output_type": "stream",
          "name": "stdout",
          "text": [
            "Error: The file was not found.\n"
          ]
        }
      ]
    },
    {
      "cell_type": "code",
      "source": [
        "# Q-9 : How can you read a file line by line and store its content in a list in Python?\n",
        "\n",
        "with open(\"example.txt\", \"r\") as file:\n",
        "    lines = file.readlines()\n",
        "\n",
        "print(lines)\n"
      ],
      "metadata": {
        "id": "u9nevcBsNaFN",
        "colab": {
          "base_uri": "https://localhost:8080/"
        },
        "outputId": "9bb76c67-2630-47c8-cf2d-caa35a79020f"
      },
      "execution_count": null,
      "outputs": [
        {
          "output_type": "stream",
          "name": "stdout",
          "text": [
            "['Hello, world!\\n', 'I am Sagar Mitra.']\n"
          ]
        }
      ]
    },
    {
      "cell_type": "code",
      "source": [
        "# Q-10 : How can you append data to an existing file in Python?\n",
        "\n",
        "# Open the file in append mode ('a')\n",
        "with open(\"example.txt\", \"a\") as file:\n",
        "    file.write(\"\\nThis is a new line of text.\")\n"
      ],
      "metadata": {
        "id": "MTDyVBI8Nqa9"
      },
      "execution_count": null,
      "outputs": []
    },
    {
      "cell_type": "code",
      "source": [
        "# Q-11 : Write a Python program that uses a try-except block to handle an error when attempting to access a dictionary key that doesn't exist.\n",
        "\n",
        "# Sample dictionary\n",
        "person = {\n",
        "    \"name\": \"Sagar\",\n",
        "    \"age\": 22\n",
        "}\n",
        "\n",
        "try:\n",
        "    # Attempt to access a key that may not exist\n",
        "    print(\"City:\", person[\"city\"])\n",
        "except KeyError:\n",
        "    print(\"Error: The key 'city' does not exist in the dictionary.\")\n"
      ],
      "metadata": {
        "id": "dhpcRxq1Ug1c",
        "colab": {
          "base_uri": "https://localhost:8080/"
        },
        "outputId": "570762a5-c505-4653-bd06-01567d75f0f1"
      },
      "execution_count": null,
      "outputs": [
        {
          "output_type": "stream",
          "name": "stdout",
          "text": [
            "Error: The key 'city' does not exist in the dictionary.\n"
          ]
        }
      ]
    },
    {
      "cell_type": "code",
      "source": [
        " # Q-12 : Write a program that demonstrates using multiple except blocks to handle different types of exceptions.\n",
        "\n",
        "try:\n",
        "    # Sample operations that may raise exceptions\n",
        "    num = int(input(\"Enter a number: \"))\n",
        "    result = 10 / num\n",
        "    data = {\"name\": \"Sagar\"}\n",
        "    print(\"Age:\", data[\"age\"])  # KeyError\n",
        "\n",
        "except ValueError:\n",
        "    print(\"Error: Invalid input. Please enter a valid number.\")\n",
        "\n",
        "except ZeroDivisionError:\n",
        "    print(\"Error: Cannot divide by zero.\")\n",
        "\n",
        "except KeyError as e:\n",
        "    print(f\"Error: Key {e} not found in the dictionary.\")\n",
        "\n",
        "except Exception as e:\n",
        "    print(f\"An unexpected error occurred: {e}\")\n"
      ],
      "metadata": {
        "id": "gmeFr4VuPLtl",
        "colab": {
          "base_uri": "https://localhost:8080/"
        },
        "outputId": "9f0f2413-6cfc-4c99-d463-cafc4edea08d"
      },
      "execution_count": 3,
      "outputs": [
        {
          "output_type": "stream",
          "name": "stdout",
          "text": [
            "Enter a number: 22\n",
            "Error: Key 'age' not found in the dictionary.\n"
          ]
        }
      ]
    },
    {
      "cell_type": "code",
      "source": [
        "# Q-13 : How would you check if a file exists before attempting to read it in Python.\n",
        "\n",
        "import os\n",
        "\n",
        "file_path = \"example.txt\"\n",
        "\n",
        "if os.path.exists(file_path):\n",
        "    with open(file_path, \"r\") as file:\n",
        "        content = file.read()\n",
        "        print(content)\n",
        "else:\n",
        "    print(\"File does not exist.\")\n"
      ],
      "metadata": {
        "id": "30xcgOEfPiOV",
        "colab": {
          "base_uri": "https://localhost:8080/"
        },
        "outputId": "b1e38131-b098-4af9-ed94-375232543d34"
      },
      "execution_count": null,
      "outputs": [
        {
          "output_type": "stream",
          "name": "stdout",
          "text": [
            "Hello, world!\n",
            "I am Sagar Mitra.This is a new line of text.\n",
            "\n"
          ]
        }
      ]
    },
    {
      "cell_type": "code",
      "source": [
        "# Q-14 : Write a program that uses the logging module to log both informational and error messages.\n",
        "\n",
        "import logging\n",
        "\n",
        "# Configure the logging system\n",
        "logging.basicConfig(\n",
        "    filename='app.log',           # Log file name\n",
        "    level=logging.DEBUG,          # Capture all messages from DEBUG level and up\n",
        "    format='%(asctime)s - %(levelname)s - %(message)s'\n",
        ")\n",
        "\n",
        "# Log an informational message\n",
        "logging.info(\"Program started.\")\n",
        "\n",
        "try:\n",
        "    # Simulate some operation\n",
        "    x = 10\n",
        "    y = 0\n",
        "    result = x / y  # This will raise ZeroDivisionError\n",
        "    logging.info(f\"Result is {result}\")\n",
        "\n",
        "except ZeroDivisionError as e:\n",
        "    logging.error(\"Division by zero error occurred: %s\", e)\n",
        "\n",
        "# Another info log to indicate program continued\n",
        "logging.info(\"Program ended.\")\n"
      ],
      "metadata": {
        "id": "w1fLMZ3EPxw9",
        "colab": {
          "base_uri": "https://localhost:8080/"
        },
        "outputId": "9bc13095-776f-4cf8-d4f7-50da233c561f"
      },
      "execution_count": null,
      "outputs": [
        {
          "output_type": "stream",
          "name": "stderr",
          "text": [
            "ERROR:root:Division by zero error occurred: division by zero\n"
          ]
        }
      ]
    },
    {
      "cell_type": "code",
      "source": [
        "# Q-15 : Write a Python program that prints the content of a file and handles the case when the file is empty.\n",
        "\n",
        "import os\n",
        "\n",
        "file_path = \"example.txt\"\n",
        "\n",
        "try:\n",
        "    if os.path.exists(file_path):\n",
        "        with open(file_path, \"r\") as file:\n",
        "            content = file.read()\n",
        "            if content.strip() == \"\":\n",
        "                print(\"The file is empty.\")\n",
        "            else:\n",
        "                print(\"File content:\\n\")\n",
        "                print(content)\n",
        "    else:\n",
        "        print(\"Error: The file does not exist.\")\n",
        "except Exception as e:\n",
        "    print(f\"An error occurred while reading the file: {e}\")\n"
      ],
      "metadata": {
        "id": "GhDXF0NiP9Od",
        "colab": {
          "base_uri": "https://localhost:8080/"
        },
        "outputId": "723360dc-ee04-451c-afba-07c1548ea3ad"
      },
      "execution_count": null,
      "outputs": [
        {
          "output_type": "stream",
          "name": "stdout",
          "text": [
            "File content:\n",
            "\n",
            "Hello, world!\n",
            "I am Sagar Mitra.This is a new line of text.\n",
            "\n",
            "This is a new line of text.\n"
          ]
        }
      ]
    },
    {
      "cell_type": "code",
      "source": [
        "# Q-16 : Demonstrate how to use memory profiling to check the memory usage of a small program.\n",
        "\n",
        "pip install memory-profiler\n",
        "\n",
        "from memory_profiler import profile\n",
        "\n",
        "@profile\n",
        "def my_function():\n",
        "    # Simulate memory usage\n",
        "    a = [i for i in range(100000)]  # allocate memory\n",
        "    b = sum(a)\n",
        "    return b\n",
        "\n",
        "if __name__ == \"__main__\":\n",
        "    my_function()\n"
      ],
      "metadata": {
        "id": "_Rh8y1xlQcNt",
        "colab": {
          "base_uri": "https://localhost:8080/",
          "height": 106
        },
        "outputId": "8f480ac3-ea9c-450b-8fbb-b519cf2832d6"
      },
      "execution_count": null,
      "outputs": [
        {
          "output_type": "error",
          "ename": "SyntaxError",
          "evalue": "invalid syntax (ipython-input-24-2746405760.py, line 3)",
          "traceback": [
            "\u001b[0;36m  File \u001b[0;32m\"/tmp/ipython-input-24-2746405760.py\"\u001b[0;36m, line \u001b[0;32m3\u001b[0m\n\u001b[0;31m    pip install memory-profiler\u001b[0m\n\u001b[0m        ^\u001b[0m\n\u001b[0;31mSyntaxError\u001b[0m\u001b[0;31m:\u001b[0m invalid syntax\n"
          ]
        }
      ]
    },
    {
      "cell_type": "code",
      "source": [
        "# Q-17 : Write a Python program to create and write a list of numbers to a file, one number per line.\n",
        "\n",
        "# List of numbers to write\n",
        "numbers = [10, 20, 30, 40, 50]\n",
        "\n",
        "# Open the file in write mode\n",
        "with open(\"numbers.txt\", \"w\") as file:\n",
        "    for number in numbers:\n",
        "        file.write(f\"{number}\\n\")\n",
        "\n",
        "print(\"Numbers written to 'numbers.txt' successfully.\")\n"
      ],
      "metadata": {
        "id": "U9h39gpdQtiN",
        "colab": {
          "base_uri": "https://localhost:8080/"
        },
        "outputId": "151270a9-7ee5-4f6e-c554-68342cee7a9c"
      },
      "execution_count": null,
      "outputs": [
        {
          "output_type": "stream",
          "name": "stdout",
          "text": [
            "Numbers written to 'numbers.txt' successfully.\n"
          ]
        }
      ]
    },
    {
      "cell_type": "code",
      "source": [
        "# Q-18 : How would you implement a basic logging setup that logs to a file with rotation after 1MB?\n",
        "\n",
        "import logging\n",
        "from logging.handlers import RotatingFileHandler\n",
        "\n",
        "# Create a logger\n",
        "logger = logging.getLogger(\"MyLogger\")\n",
        "logger.setLevel(logging.DEBUG)\n",
        "\n",
        "# Create a rotating file handler\n",
        "handler = RotatingFileHandler(\n",
        "    \"app.log\",         # Log file name\n",
        "    maxBytes=102 * 1024,  # 1 MB\n",
        "    backupCount=3             # Keep up to 3 backup files\n",
        ")\n",
        "\n",
        "# Define the log format\n",
        "formatter = logging.Formatter('%(asctime)s - %(levelname)s - %(message)s')\n",
        "handler.setFormatter(formatter)\n",
        "\n",
        "# Add handler to logger\n",
        "logger.addHandler(handler)\n",
        "\n",
        "# Example log messages\n",
        "for i in range(10000):\n",
        "    logger.info(f\"This is log message number {i}\")\n"
      ],
      "metadata": {
        "id": "FXiLKDhbQ8kt"
      },
      "execution_count": null,
      "outputs": []
    },
    {
      "cell_type": "code",
      "source": [
        "# Q-19 : Write a program that handles both IndexError and KeyError using a try-except block.\n",
        "\n",
        "# Sample list and dictionary\n",
        "my_list = [10, 20, 30]\n",
        "my_dict = {\"name\": \"Alice\", \"age\": 25}\n",
        "\n",
        "try:\n",
        "    # Accessing out-of-range index (IndexError)\n",
        "    print(\"List item:\", my_list[5])\n",
        "\n",
        "    # Accessing non-existent key (KeyError)\n",
        "    print(\"City:\", my_dict[\"city\"])\n",
        "\n",
        "except IndexError:\n",
        "    print(\"Error: List index out of range.\")\n",
        "\n",
        "except KeyError as e:\n",
        "    print(f\"Error: Key '{e}' not found in the dictionary.\")\n"
      ],
      "metadata": {
        "id": "eCzEmE7mR7a9",
        "colab": {
          "base_uri": "https://localhost:8080/"
        },
        "outputId": "af6e9a1a-d8e6-4539-8a80-5b2314908265"
      },
      "execution_count": null,
      "outputs": [
        {
          "output_type": "stream",
          "name": "stdout",
          "text": [
            "Error: List index out of range.\n"
          ]
        }
      ]
    },
    {
      "cell_type": "code",
      "source": [
        "# Q-20 : How would you open a file and read its contents using a context manager in Python?\n",
        "\n",
        "# Open and read a file using a context manager\n",
        "with open(\"example.txt\", \"r\") as file:\n",
        "    content = file.read()\n",
        "    print(content)\n"
      ],
      "metadata": {
        "id": "pwrlHZb8S3H1",
        "colab": {
          "base_uri": "https://localhost:8080/"
        },
        "outputId": "95e15d49-96ab-4107-b008-4128df0b5c88"
      },
      "execution_count": null,
      "outputs": [
        {
          "output_type": "stream",
          "name": "stdout",
          "text": [
            "Hello, world!\n",
            "I am Sagar Mitra.This is a new line of text.\n",
            "\n",
            "This is a new line of text.\n"
          ]
        }
      ]
    },
    {
      "cell_type": "code",
      "source": [
        "# Q-21 : Write a Python program that reads a file and prints the number of occurrences of a specific word.\n",
        "\n",
        "def count_word_occurrences(file_path, target_word):\n",
        "    try:\n",
        "        with open(file_path, 'r') as file:\n",
        "            content = file.read()\n",
        "            # Convert to lowercase for case-insensitive search\n",
        "            words = content.lower().split()\n",
        "            count = words.count(target_word.lower())\n",
        "            print(f\"The word '{target_word}' occurs {count} times.\")\n",
        "    except FileNotFoundError:\n",
        "        print(\"Error: File not found.\")\n",
        "    except Exception as e:\n",
        "        print(f\"An error occurred: {e}\")\n",
        "\n",
        "# Example usage\n",
        "count_word_occurrences(\"example.txt\", \"python\")\n"
      ],
      "metadata": {
        "id": "IOS6nSskSXi9",
        "colab": {
          "base_uri": "https://localhost:8080/"
        },
        "outputId": "07f4f68c-c3c9-4756-9b68-a9e71a8ee34c"
      },
      "execution_count": null,
      "outputs": [
        {
          "output_type": "stream",
          "name": "stdout",
          "text": [
            "The word 'python' occurs 0 times.\n"
          ]
        }
      ]
    },
    {
      "cell_type": "code",
      "source": [
        "# Q-22 : How can you check if a file is empty before attempting to read its contents?\n",
        "\n",
        "import os\n",
        "\n",
        "file_path = \"example.txt\"\n",
        "\n",
        "# Check if file exists and is not empty\n",
        "if os.path.exists(file_path):\n",
        "    if os.path.getsize(file_path) == 0:\n",
        "        print(\"The file is empty.\")\n",
        "    else:\n",
        "        with open(file_path, \"r\") as file:\n",
        "            content = file.read()\n",
        "            print(\"File content:\\n\", content)\n",
        "else:\n",
        "    print(\"The file does not exist.\")\n"
      ],
      "metadata": {
        "id": "FJBYsogjTxxV",
        "colab": {
          "base_uri": "https://localhost:8080/"
        },
        "outputId": "76580f46-6e33-4ea3-f1a0-3c29f0bb83f4"
      },
      "execution_count": null,
      "outputs": [
        {
          "output_type": "stream",
          "name": "stdout",
          "text": [
            "File content:\n",
            " Hello, world!\n",
            "I am Sagar Mitra.This is a new line of text.\n",
            "\n",
            "This is a new line of text.\n"
          ]
        }
      ]
    },
    {
      "cell_type": "code",
      "source": [
        "# Q-23 : Write a Python program that writes to a log file when an error occurs during file handling.\n",
        "\n",
        "import logging\n",
        "\n",
        "# Set up logging configuration\n",
        "logging.basicConfig(\n",
        "    filename='file_errors.log',\n",
        "    level=logging.ERROR,\n",
        "    format='%(asctime)s - %(levelname)s - %(message)s'\n",
        ")\n",
        "\n",
        "def read_file(file_path):\n",
        "    try:\n",
        "        with open(file_path, 'r') as file:\n",
        "            content = file.read()\n",
        "            print(\"File content:\\n\", content)\n",
        "    except FileNotFoundError as e:\n",
        "        logging.error(\"FileNotFoundError: %s\", e)\n",
        "        print(\"Error: File not found. Details logged.\")\n",
        "    except Exception as e:\n",
        "        logging.error(\"Unexpected error: %s\", e)\n",
        "        print(\"An unexpected error occurred. Details logged.\")\n",
        "\n",
        "# Example usage\n",
        "read_file(\"non_existent_file.txt\")\n"
      ],
      "metadata": {
        "id": "G1Mav-UmT9z1",
        "colab": {
          "base_uri": "https://localhost:8080/"
        },
        "outputId": "cc0f710e-9d45-481d-b44b-73ebb27cb9bc"
      },
      "execution_count": null,
      "outputs": [
        {
          "output_type": "stream",
          "name": "stderr",
          "text": [
            "ERROR:root:FileNotFoundError: [Errno 2] No such file or directory: 'non_existent_file.txt'\n"
          ]
        },
        {
          "output_type": "stream",
          "name": "stdout",
          "text": [
            "Error: File not found. Details logged.\n"
          ]
        }
      ]
    }
  ]
}